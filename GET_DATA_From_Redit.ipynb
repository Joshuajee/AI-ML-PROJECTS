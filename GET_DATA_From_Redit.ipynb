{
  "cells": [
    {
      "cell_type": "markdown",
      "metadata": {
        "colab_type": "text",
        "id": "view-in-github"
      },
      "source": [
        "<a href=\"https://colab.research.google.com/github/Joshuajee/AI-ML-PROJECTS/blob/master/GET_DATA_From_Redit.ipynb\" target=\"_parent\"><img src=\"https://colab.research.google.com/assets/colab-badge.svg\" alt=\"Open In Colab\"/></a>"
      ]
    },
    {
      "cell_type": "code",
      "execution_count": null,
      "metadata": {
        "id": "QP4tgTJhOMAQ"
      },
      "outputs": [],
      "source": [
        "import requests\n",
        "import json\n",
        "import pandas as pd\n",
        "from google.colab import drive"
      ]
    },
    {
      "cell_type": "markdown",
      "metadata": {
        "id": "8-b8JCc6RYng"
      },
      "source": []
    },
    {
      "cell_type": "code",
      "execution_count": null,
      "metadata": {
        "id": "sxjzAJplP2Ol"
      },
      "outputs": [],
      "source": [
        "drive.mount('/content/drive/') # Mount your Google Drive to the local /content/drive directory\n",
        "drive_path = \"/content/drive/My Drive/Colab Notebooks/assessment-2/data/\""
      ]
    },
    {
      "cell_type": "code",
      "execution_count": null,
      "metadata": {},
      "outputs": [],
      "source": [
        "reddit = praw.Reddit(client_id='', client_secret='', user_agent='')\n",
        "\n",
        "# Define the keywords and subreddits to search in\n",
        "keywords = ['mould'] # Specify Keywords here\n",
        "subreddits = \"stocks\"\n",
        "\n",
        "# Define the number of posts to retrieve in total\n",
        "num_posts = 10000\n",
        "\n",
        "# Define a list to store the extracted data\n",
        "data = []\n",
        "\n",
        "# Loop through each subreddit\n",
        "\n",
        "# Use pagination to retrieve the posts in batches of 100\n",
        "for i in range(0, num_posts, 100):\n",
        "    # Use the PRAW API to search for posts containing the keywords\n",
        "    search_results = reddit.subreddit(subreddit).search(f\"{' OR '.join(keywords)}\", limit=100, params={'after': i})\n",
        "    # Process the search results\n",
        "    for result in search_results:\n",
        "        # Check if the post has a non-empty selftext field\n",
        "        if result.selftext:\n",
        "            # Extract the relevant data from each post\n",
        "            post_title = result.title\n",
        "            post_text = result.selftext\n",
        "            post_author = result.author.name\n",
        "            post_created_utc = result.created_utc\n",
        "            # Store the data in the list\n",
        "            data.append({'title': post_title, 'text': post_text, 'author': post_author, 'created_utc': post_created_utc})\n",
        "    # Delay for 10 seconds before making the next request\n",
        "    time.sleep(10)\n",
        "\n",
        "# Convert the list of dictionaries to a pandas DataFrame\n",
        "df = pd.DataFrame(data)\n",
        "df"
      ]
    }
  ],
  "metadata": {
    "accelerator": "GPU",
    "colab": {
      "authorship_tag": "ABX9TyP2DE9QWpy/AmC5L8IIIAwL",
      "gpuType": "T4",
      "include_colab_link": true,
      "provenance": []
    },
    "kernelspec": {
      "display_name": "Python 3",
      "name": "python3"
    },
    "language_info": {
      "name": "python"
    }
  },
  "nbformat": 4,
  "nbformat_minor": 0
}
