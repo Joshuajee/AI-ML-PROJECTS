{
  "cells": [
    {
      "cell_type": "markdown",
      "metadata": {
        "id": "view-in-github",
        "colab_type": "text"
      },
      "source": [
        "<a href=\"https://colab.research.google.com/github/Joshuajee/AI-ML-PROJECTS/blob/master/Catch%20the%20LLM%20Text%20Classification.ipynb\" target=\"_parent\"><img src=\"https://colab.research.google.com/assets/colab-badge.svg\" alt=\"Open In Colab\"/></a>"
      ]
    },
    {
      "cell_type": "markdown",
      "metadata": {
        "id": "ItXfxkxvosLH"
      },
      "source": [
        "# Text Classification Articles written by LLMs"
      ]
    },
    {
      "cell_type": "markdown",
      "metadata": {
        "id": "Q4DN769E2O_R"
      },
      "source": [
        "## Setup"
      ]
    },
    {
      "cell_type": "code",
      "execution_count": null,
      "metadata": {
        "id": "38NLiM2ni8po"
      },
      "outputs": [],
      "source": [
        "!pip install tensorflow==2.15.0 tensorflow-hub keras==2.15.0"
      ]
    },
    {
      "cell_type": "code",
      "execution_count": null,
      "metadata": {
        "id": "2ew7HTbPpCJH"
      },
      "outputs": [],
      "source": [
        "import numpy as np\n",
        "import pandas as pd\n",
        "import requests\n",
        "import tensorflow as tf\n",
        "import tensorflow_hub as hub\n",
        "import tensorflow_datasets as tfds\n",
        "import matplotlib.pyplot as plt\n",
        "from tensorflow.keras.utils import to_categorical\n",
        "\n",
        "print(\"Version: \", tf.__version__)\n",
        "print(\"Eager mode: \", tf.executing_eagerly())\n",
        "print(\"Hub version: \", hub.__version__)\n",
        "print(\"GPU is\", \"available\" if tf.config.list_physical_devices('GPU') else \"NOT AVAILABLE\")"
      ]
    },
    {
      "cell_type": "markdown",
      "metadata": {
        "id": "iAsKG535pHep"
      },
      "source": [
        "## Download the data from Github\n",
        "\n",
        "The dataset is available on https://github.com/Joshuajee/AI-ML-PROJECTS/master/. The following code downloads the IMDB dataset to your machine (or the colab runtime):"
      ]
    },
    {
      "cell_type": "code",
      "source": [
        "def get_model_data_from_github(model):\n",
        "  file_path = \"https://raw.githubusercontent.com/Joshuajee/AI-ML-PROJECTS/master/data/llms/\"\n",
        "  reponse = requests.get(file_path + model)\n",
        "  if reponse.status_code == 200:\n",
        "    with open(model, \"wb\") as file:\n",
        "      file.write(reponse.content)\n",
        "  else:\n",
        "    raise Exception(\"Error: downloading\", model, reponse.status_code)"
      ],
      "metadata": {
        "id": "1aE9-XlPXjWf"
      },
      "execution_count": null,
      "outputs": []
    },
    {
      "cell_type": "code",
      "execution_count": null,
      "metadata": {
        "id": "a6E-cmR7KXiW"
      },
      "outputs": [],
      "source": [
        "# Download the model data from github this is faster\n",
        "get_model_data_from_github(\"Meta-Llama-3-8B-Instruct.Q4_0.gguf.csv\")\n",
        "get_model_data_from_github(\"Phi-3-mini-4k-instruct.Q4_0.gguf.csv\")\n",
        "get_model_data_from_github(\"Nous-Hermes-2-Mistral-7B-DPO.Q4_0.gguf.csv\")\n",
        "get_model_data_from_github(\"orca-mini-3b-gguf2-q4_0.gguf.csv\")"
      ]
    },
    {
      "cell_type": "markdown",
      "source": [
        "## Explore the data\n",
        "\n",
        "Exploring the data to better understand the response gotten from the LLMs.\n",
        "\n",
        "From the exploration Meta-Llama-3-8B-Instruct tend to use this \"\\*\\*\" character to represent heading, this will help to easily recognise the response gotten from Meta-Llama-3-8B-Instruct but because \"\\*\\*\" is not a word they will be removed from our data."
      ],
      "metadata": {
        "id": "vJc6wb3BY8WF"
      }
    },
    {
      "cell_type": "code",
      "execution_count": null,
      "metadata": {
        "id": "O-7flb74LuXL"
      },
      "outputs": [],
      "source": [
        "# Read and explore Meta-Llama-3-8B-Instruct data\n",
        "meta = pd.read_csv(\"Meta-Llama-3-8B-Instruct.Q4_0.gguf.csv\")\n",
        "meta.head(10)"
      ]
    },
    {
      "cell_type": "code",
      "execution_count": null,
      "metadata": {
        "id": "3vUTtAxnL-12"
      },
      "outputs": [],
      "source": [
        "# Read and explore Phi-3-mini-4k-instruct data\n",
        "phi = pd.read_csv(\"Phi-3-mini-4k-instruct.Q4_0.gguf.csv\")\n",
        "phi.head(10)"
      ]
    },
    {
      "cell_type": "code",
      "source": [
        "# Read and explore Nous-Hermes-2-Mistral-7B-DPO.Q4_0 data\n",
        "nous = pd.read_csv(\"Nous-Hermes-2-Mistral-7B-DPO.Q4_0.gguf.csv\")\n",
        "nous.head(10)"
      ],
      "metadata": {
        "id": "ccRwrzOFeptk"
      },
      "execution_count": null,
      "outputs": []
    },
    {
      "cell_type": "code",
      "source": [
        "# Read and explore orca-mini-3b-gguf2-q4_0.gguf data\n",
        "orca = pd.read_csv(\"orca-mini-3b-gguf2-q4_0.gguf.csv\")\n",
        "orca.head(10)"
      ],
      "metadata": {
        "id": "fXhV2Yp3UgYo"
      },
      "execution_count": null,
      "outputs": []
    },
    {
      "cell_type": "markdown",
      "metadata": {
        "id": "HM1HQSfaOX3I"
      },
      "source": [
        "Get the total count of the DataFrames in other to balance the classes"
      ]
    },
    {
      "cell_type": "code",
      "execution_count": null,
      "metadata": {
        "id": "LIkJW1Y8OV5V"
      },
      "outputs": [],
      "source": [
        "print(phi.count())\n",
        "print(meta.count())\n",
        "print(nous.count())\n",
        "print(orca.count())"
      ]
    },
    {
      "cell_type": "markdown",
      "source": [
        "## Preprocessing\n",
        "\n",
        "Very few text cleaning is needed here because of the text embedding, but I will remove the \"**\" character that is in most of Meta-Llama-3-8B-Instruct responses.\n"
      ],
      "metadata": {
        "id": "fZSIHG0odIAj"
      }
    },
    {
      "cell_type": "code",
      "source": [
        "meta[' Response'] = meta[' Response'].str.replace('**', ' ').str.strip()\n",
        "meta"
      ],
      "metadata": {
        "id": "RgNzVBmhdTFs"
      },
      "execution_count": null,
      "outputs": []
    },
    {
      "cell_type": "markdown",
      "metadata": {
        "id": "trf_Y3WjQPxi"
      },
      "source": [
        "Spliting into training, validation, and testing sets."
      ]
    },
    {
      "cell_type": "code",
      "execution_count": null,
      "metadata": {
        "id": "LC9iZjsDSUE6"
      },
      "outputs": [],
      "source": [
        "# function to generate train, val, test split\n",
        "# Train.    : 60%\n",
        "# Validation: 20%\n",
        "# Test      : 20%\n",
        "\n",
        "def split_data(data, category):\n",
        "  # preprocess\n",
        "  data['Features'] = data[' Response']\n",
        "\n",
        "  # convert label to vector\n",
        "  data['Labels'] = category\n",
        "\n",
        "  data_shuffled = data.sample(frac=1, random_state=42).reset_index(drop=True)\n",
        "\n",
        "  # Define split sizes\n",
        "  train_size = int(0.6 * len(data_shuffled))   # 60%\n",
        "  val_size = int(0.2 * len(data_shuffled))     # 20%\n",
        "\n",
        "  train_data = data_shuffled[:train_size][[\"Features\", \"Labels\"]]\n",
        "  val_data   = data_shuffled[train_size:train_size+val_size][[\"Features\", \"Labels\"]]\n",
        "  test_data  = data_shuffled[train_size+val_size:][[\"Features\", \"Labels\"]]\n",
        "\n",
        "  return train_data, val_data, test_data"
      ]
    },
    {
      "cell_type": "code",
      "execution_count": null,
      "metadata": {
        "id": "6vC5RuC3QaVX"
      },
      "outputs": [],
      "source": [
        "(meta_train, meta_val, meta_test) = split_data(meta, 0)\n",
        "(phi_train, phi_val, phi_test) = split_data(phi, 1)\n",
        "(nous_train, nous_val, nous_test) = split_data(nous, 2)\n",
        "(orca_train, orca_val, orca_test) = split_data(orca, 3)\n",
        "\n",
        "print(len(meta_train), len(meta_val), len(meta_test))\n",
        "print(len(phi_train), len(phi_val), len(phi_test))\n",
        "print(len(nous_train), len(nous_val), len(nous_test))\n",
        "print(len(orca_train), len(orca_val), len(orca_test))\n",
        "\n",
        "meta_train"
      ]
    },
    {
      "cell_type": "markdown",
      "metadata": {
        "id": "JM2OKTFDPiZb"
      },
      "source": [
        "Joining the Dataframes together"
      ]
    },
    {
      "cell_type": "code",
      "execution_count": null,
      "metadata": {
        "id": "_w3bFfjfQN-n"
      },
      "outputs": [],
      "source": [
        "train_data = pd.concat([meta_train, phi_train, nous_train, orca_train], ignore_index=True)\n",
        "val_data = pd.concat([meta_val, phi_val, nous_val, orca_val], ignore_index=True)\n",
        "test_data = pd.concat([meta_test, phi_test, nous_test, orca_test], ignore_index=True)\n",
        "\n",
        "train_data"
      ]
    },
    {
      "cell_type": "code",
      "execution_count": null,
      "metadata": {
        "id": "kq_LLCMKhPWv"
      },
      "outputs": [],
      "source": [
        "# Converting to Tensors\n",
        "train_example = tf.convert_to_tensor( train_data['Features'].values, dtype=tf.string) # Convert 'Features' to tf.string tensor\n",
        "train_labels = tf.convert_to_tensor(to_categorical(train_data['Labels'].values, num_classes=4), dtype=tf.int64)   # Convert 'Labels' to tf.int64 tensor\n",
        "\n",
        "val_example = tf.convert_to_tensor(val_data['Features'].values, dtype=tf.string) # Convert 'Features' to tf.string tensor\n",
        "val_labels = tf.convert_to_tensor(to_categorical(val_data['Labels'].values, num_classes=4), dtype=tf.int64)   # Convert 'Labels' to tf.int64 tensor\n",
        "\n",
        "test_example = tf.convert_to_tensor(test_data['Features'].values, dtype=tf.string) # Convert 'Features' to tf.string tensor\n",
        "test_labels = tf.convert_to_tensor(to_categorical(test_data['Labels'].values, num_classes=4), dtype=tf.int64)   # Convert 'Labels' to tf.int64 tensor"
      ]
    },
    {
      "cell_type": "markdown",
      "metadata": {
        "id": "LLC02j2g-llC"
      },
      "source": [
        "## Build the model\n",
        "\n",
        "The neural network is created by stacking layers—this requires three main architectural decisions:\n",
        "\n",
        "* How to represent the text?\n",
        "* How many layers to use in the model?\n",
        "* How many *hidden units* to use for each layer?\n",
        "\n",
        "In this project, the input data consists of sentences. The labels to predict are either 0, 1, 2, 3.\n",
        "\n",
        "To represent the text, the sentences will be converted into embeddings vectors.\n",
        "\n",
        "Pre-trained text embedding will be used as the first layer, which will have two advantages:\n",
        "*   we don't have to worry about text preprocessing,\n",
        "*   we can benefit from transfer learning.\n",
        "\n",
        "For this example I will use the following model.\n",
        "\n",
        "1. [TensorFlow Hub](https://www.tensorflow.org/hub) called [google/nnlm-en-dim50/2](https://tfhub.dev/google/nnlm-en-dim50/2).\n",
        "\n",
        "2. [google/nnlm-en-dim50-with-normalization/2](https://tfhub.dev/google/nnlm-en-dim50-with-normalization/2) - same as [google/nnlm-en-dim50/2](https://tfhub.dev/google/nnlm-en-dim50/2), but with additional text normalization to remove punctuation. This can help to get better coverage of in-vocabulary embeddings for tokens on your input text.\n",
        "\n",
        "3. [google/nnlm-en-dim128-with-normalization/2](https://tfhub.dev/google/nnlm-en-dim128-with-normalization/2) - A larger model with an embedding dimension of 128 instead of the smaller 50."
      ]
    },
    {
      "cell_type": "markdown",
      "source": [
        "The layers are stacked sequentially to build the classifier:\n",
        "\n",
        "1. The first layer is a TensorFlow Hub layer. This layer uses a pre-trained Saved Model to map a sentence into its embedding vector. We are using the three models above to splits the sentence into tokens, embeds each token and then combines the embedding. The resulting dimensions are: `(num_examples, embedding_dimension)`.\n",
        "2. This fixed-length output vector is piped through a fully-connected (`Dense`) layer with 16 hidden units.\n",
        "3. The last layer is densely connected with a four output node. This outputs logits: the log-odds of the true class, according to the model."
      ],
      "metadata": {
        "id": "Jc0ZqebWCuGM"
      }
    },
    {
      "cell_type": "markdown",
      "metadata": {
        "id": "dfSbV6igl1EH"
      },
      "source": [
        "Let's now build the full model:"
      ]
    },
    {
      "cell_type": "code",
      "execution_count": null,
      "metadata": {
        "id": "xpKOoWgu-llD"
      },
      "outputs": [],
      "source": [
        "def build_model(embedding_model):\n",
        "    model = tf.keras.Sequential()\n",
        "    model.add(hub.KerasLayer(embedding_model, input_shape=[], dtype=tf.string, trainable=True))\n",
        "    model.add(tf.keras.layers.Dense(16, activation='relu'))\n",
        "    model.add(tf.keras.layers.Dense(4))\n",
        "    model.compile(optimizer='adam', loss=tf.losses.CategoricalCrossentropy(from_logits=True), metrics=['accuracy'])\n",
        "    model.summary()\n",
        "    return model"
      ]
    },
    {
      "cell_type": "code",
      "source": [
        "nnlm_50_dim = build_model(\"https://tfhub.dev/google/nnlm-en-dim50/2\")"
      ],
      "metadata": {
        "id": "4sVr8H1a4qFy"
      },
      "execution_count": null,
      "outputs": []
    },
    {
      "cell_type": "code",
      "source": [
        "nnlm_50_dim_norm = build_model(\"https://tfhub.dev/google/nnlm-en-dim50-with-normalization/2\")"
      ],
      "metadata": {
        "id": "fYfRPvA97Vjx"
      },
      "execution_count": null,
      "outputs": []
    },
    {
      "cell_type": "code",
      "source": [
        "nnlm_128_dim_norm = build_model(\"https://tfhub.dev/google/nnlm-en-dim128-with-normalization/2\")"
      ],
      "metadata": {
        "id": "-3g4v0xx7VK9"
      },
      "execution_count": null,
      "outputs": []
    },
    {
      "cell_type": "markdown",
      "metadata": {
        "id": "6PbKQ6mucuKL"
      },
      "source": [
        "The layers are stacked sequentially to build the classifier:\n",
        "\n",
        "1. The first layer is a TensorFlow Hub layer. This layer uses a pre-trained Saved Model to map a sentence into its embedding vector. The model that we are using ([google/nnlm-en-dim50/2](https://tfhub.dev/google/nnlm-en-dim50/2)) splits the sentence into tokens, embeds each token and then combines the embedding. The resulting dimensions are: `(num_examples, embedding_dimension)`.\n",
        "2. This fixed-length output vector is piped through a fully-connected (`Dense`) layer with 16 hidden units.\n",
        "3. The last layer is densely connected with a four output node. This outputs logits: the log-odds of the true class, according to the model."
      ]
    },
    {
      "cell_type": "markdown",
      "metadata": {
        "id": "0XMwnDOp-llH"
      },
      "source": [
        "### Hidden units\n",
        "\n",
        "The above model has two intermediate or \"hidden\" layers, between the input and output. The number of outputs (units, nodes, or neurons) is the dimension of the representational space for the layer. In other words, the amount of freedom the network is allowed when learning an internal representation.\n",
        "\n",
        "If a model has more hidden units (a higher-dimensional representation space), and/or more layers, then the network can learn more complex representations. However, it makes the network more computationally expensive and may lead to learning unwanted patterns—patterns that improve performance on training data but not on the test data. This is called *overfitting*, and we'll explore it later."
      ]
    },
    {
      "cell_type": "markdown",
      "metadata": {
        "id": "L4EqVWg4-llM"
      },
      "source": [
        "### Loss function and optimizer\n",
        "\n",
        "A model needs a loss function and an optimizer for training. Since this is a categorical classification problem and the model outputs a probability (a single-unit layer with a sigmoid activation), we'll use the `categorical_crossentropy` loss function.\n"
      ]
    },
    {
      "cell_type": "markdown",
      "metadata": {
        "id": "35jv_fzP-llU"
      },
      "source": [
        "## Train the models\n",
        "\n",
        "Train the model for 40 epochs in mini-batches of 100 samples. This is 40 iterations over all samples in the `x_train` and `y_train` tensors."
      ]
    },
    {
      "cell_type": "code",
      "execution_count": null,
      "metadata": {
        "id": "tXSGrjWZ-llW"
      },
      "outputs": [],
      "source": [
        "def train_model(model, train_example, train_labels, val_example, val_labels):\n",
        "  return model.fit(train_example, train_labels, epochs=40, batch_size=100, validation_data=(val_example, val_labels), verbose=1)"
      ]
    },
    {
      "cell_type": "code",
      "source": [
        "nnlm_50_dim_history = train_model(nnlm_50_dim, train_example, train_labels, val_example, val_labels)"
      ],
      "metadata": {
        "id": "HkfjtF7Q6SQG"
      },
      "execution_count": null,
      "outputs": []
    },
    {
      "cell_type": "code",
      "source": [
        "nnlm_50_dim_norm_history = train_model(nnlm_50_dim_norm, train_example, train_labels, val_example, val_labels)"
      ],
      "metadata": {
        "id": "5_sA2JVo-ILP"
      },
      "execution_count": null,
      "outputs": []
    },
    {
      "cell_type": "code",
      "source": [
        "nnlm_128_dim_norm_history = train_model(nnlm_128_dim_norm, train_example, train_labels, val_example, val_labels)"
      ],
      "metadata": {
        "id": "4rLiIlAm-K9I"
      },
      "execution_count": null,
      "outputs": []
    },
    {
      "cell_type": "markdown",
      "metadata": {
        "id": "9EEGuDVuzb5r"
      },
      "source": [
        "## Evaluate the models\n",
        "\n",
        "And let's see how the model performs. Two values will be returned. Loss (a number which represents our error, lower values are better), and accuracy."
      ]
    },
    {
      "cell_type": "code",
      "source": [
        "def evaluate_model(model, test_example, test_labels):\n",
        "  results = model.evaluate(test_example, test_labels)\n",
        "  print(f\"test loss: {results[0]}, test acc: {results[1]}\")\n",
        "  return results"
      ],
      "metadata": {
        "id": "7y8V_A785kv8"
      },
      "execution_count": null,
      "outputs": []
    },
    {
      "cell_type": "code",
      "execution_count": null,
      "metadata": {
        "id": "zOMKywn4zReN"
      },
      "outputs": [],
      "source": [
        "nnlm_50_dim_results = evaluate_model(nnlm_50_dim, test_example, test_labels)"
      ]
    },
    {
      "cell_type": "code",
      "source": [
        "nnlm_50_dim_norm_results = evaluate_model(nnlm_50_dim_norm, test_example, test_labels)"
      ],
      "metadata": {
        "id": "QmSec9jQ__Xc"
      },
      "execution_count": null,
      "outputs": []
    },
    {
      "cell_type": "code",
      "source": [
        "nnlm_128_dim_norm_results = evaluate_model(nnlm_128_dim_norm, test_example, test_labels)"
      ],
      "metadata": {
        "id": "WOQdVy9X__CM"
      },
      "execution_count": null,
      "outputs": []
    },
    {
      "cell_type": "markdown",
      "metadata": {
        "id": "OgdNiYjAFiiP"
      },
      "source": [
        "Model predict, this is assuming that we feed a brand new data to our trained system"
      ]
    },
    {
      "cell_type": "code",
      "execution_count": null,
      "metadata": {
        "id": "Mf7fpfi8FiiP"
      },
      "outputs": [],
      "source": [
        "# results_pred = model.predict(test_example)\n",
        "# classes_x=np.argmax(results_pred ,axis=1)"
      ]
    },
    {
      "cell_type": "markdown",
      "metadata": {
        "id": "z1iEXVTR0Z2t"
      },
      "source": [
        "This fairly naive approach achieves an accuracy of about 87%. With more advanced approaches, the model should get closer to 95%."
      ]
    },
    {
      "cell_type": "markdown",
      "metadata": {
        "id": "5KggXVeL-llZ"
      },
      "source": [
        "## Create a graph of accuracy and loss over time\n",
        "\n",
        "`model.fit()` returns a `History` object that contains a dictionary with everything that happened during training:"
      ]
    },
    {
      "cell_type": "code",
      "source": [
        "def plot_history(history):\n",
        "  history_dict = history.history\n",
        "  history_dict.keys()\n",
        "  acc = history_dict['accuracy']\n",
        "  val_acc = history_dict['val_accuracy']\n",
        "  loss = history_dict['loss']\n",
        "  val_loss = history_dict['val_loss']\n",
        "\n",
        "  epochs = range(1, len(acc) + 1)\n",
        "\n",
        "  # \"bo\" is for \"blue dot\"\n",
        "  plt.plot(epochs, loss, 'bo', label='Training loss')\n",
        "  # b is for \"solid blue line\"\n",
        "  plt.plot(epochs, val_loss, 'b', label='Validation loss')\n",
        "  plt.title('Training and validation loss')\n",
        "  plt.xlabel('Epochs')\n",
        "  plt.ylabel('Loss')\n",
        "  plt.legend()\n",
        "  plt.show()"
      ],
      "metadata": {
        "id": "6SEm-CdQyI4b"
      },
      "execution_count": null,
      "outputs": []
    },
    {
      "cell_type": "code",
      "source": [
        "plot_history(nnlm_50_dim_history)"
      ],
      "metadata": {
        "id": "UJT3sz29yaBq"
      },
      "execution_count": null,
      "outputs": []
    },
    {
      "cell_type": "code",
      "source": [
        "plot_history(nnlm_50_dim_norm_history)"
      ],
      "metadata": {
        "id": "WZGxemu4ynOo"
      },
      "execution_count": null,
      "outputs": []
    },
    {
      "cell_type": "code",
      "source": [
        "plot_history(nnlm_128_dim_norm_history)"
      ],
      "metadata": {
        "id": "9FsJ9S0oypiw"
      },
      "execution_count": null,
      "outputs": []
    },
    {
      "cell_type": "markdown",
      "metadata": {
        "id": "nRKsqL40-lle"
      },
      "source": [
        "There are four entries: one for each monitored metric during training and validation. We can use these to plot the training and validation loss for comparison, as well as the training and validation accuracy:"
      ]
    },
    {
      "cell_type": "code",
      "execution_count": null,
      "metadata": {
        "id": "nGoYf2Js-lle"
      },
      "outputs": [],
      "source": [
        "# acc = history_dict['accuracy']\n",
        "# val_acc = history_dict['val_accuracy']\n",
        "# loss = history_dict['loss']\n",
        "# val_loss = history_dict['val_loss']\n",
        "\n",
        "# epochs = range(1, len(acc) + 1)\n",
        "\n",
        "# # \"bo\" is for \"blue dot\"\n",
        "# plt.plot(epochs, loss, 'bo', label='Training loss')\n",
        "# # b is for \"solid blue line\"\n",
        "# plt.plot(epochs, val_loss, 'b', label='Validation loss')\n",
        "# plt.title('Training and validation loss')\n",
        "# plt.xlabel('Epochs')\n",
        "# plt.ylabel('Loss')\n",
        "# plt.legend()\n",
        "\n",
        "# plt.show()"
      ]
    },
    {
      "cell_type": "code",
      "execution_count": null,
      "metadata": {
        "id": "6hXx-xOv-llh"
      },
      "outputs": [],
      "source": [
        "# plt.clf()   # clear figure\n",
        "\n",
        "# plt.plot(epochs, acc, 'bo', label='Training acc')\n",
        "# plt.plot(epochs, val_acc, 'b', label='Validation acc')\n",
        "# plt.title('Training and validation accuracy')\n",
        "# plt.xlabel('Epochs')\n",
        "# plt.ylabel('Accuracy')\n",
        "# plt.legend()\n",
        "\n",
        "# plt.show()"
      ]
    },
    {
      "cell_type": "markdown",
      "metadata": {
        "id": "oFEmZ5zq-llk"
      },
      "source": [
        "In this plot, the dots represent the training loss and accuracy, and the solid lines are the validation loss and accuracy.\n",
        "\n",
        "Notice the training loss *decreases* with each epoch and the training accuracy *increases* with each epoch. This is expected when using a gradient descent optimization—it should minimize the desired quantity on every iteration.\n",
        "\n",
        "This isn't the case for the validation loss and accuracy—they seem to peak after about twenty epochs. This is an example of overfitting: the model performs better on the training data than it does on data it has never seen before. After this point, the model over-optimizes and learns representations *specific* to the training data that do not *generalize* to test data.\n",
        "\n",
        "For this particular case, we could prevent overfitting by simply stopping the training after twenty or so epochs. Later, you'll see how to do this automatically with a callback."
      ]
    }
  ],
  "metadata": {
    "colab": {
      "name": "basic-text-classification.ipynb",
      "private_outputs": true,
      "provenance": [],
      "gpuType": "T4",
      "include_colab_link": true
    },
    "kernelspec": {
      "display_name": "Python 3",
      "name": "python3"
    },
    "accelerator": "GPU"
  },
  "nbformat": 4,
  "nbformat_minor": 0
}