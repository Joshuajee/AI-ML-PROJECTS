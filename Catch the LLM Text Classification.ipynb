{
  "cells": [
    {
      "cell_type": "markdown",
      "metadata": {
        "id": "view-in-github",
        "colab_type": "text"
      },
      "source": [
        "<a href=\"https://colab.research.google.com/github/Joshuajee/AI-ML-PROJECTS/blob/master/Catch%20the%20LLM%20Text%20Classification.ipynb\" target=\"_parent\"><img src=\"https://colab.research.google.com/assets/colab-badge.svg\" alt=\"Open In Colab\"/></a>"
      ]
    },
    {
      "cell_type": "markdown",
      "metadata": {
        "id": "ItXfxkxvosLH"
      },
      "source": [
        "# Text Classification Articles written by LLMs"
      ]
    },
    {
      "cell_type": "markdown",
      "metadata": {
        "id": "Q4DN769E2O_R"
      },
      "source": [
        "## Setup"
      ]
    },
    {
      "cell_type": "code",
      "source": [
        "!pip install tensorflow==2.15 tensorflow-hub==0.15"
      ],
      "metadata": {
        "id": "4HmqosJCne-A"
      },
      "execution_count": null,
      "outputs": []
    },
    {
      "cell_type": "code",
      "execution_count": null,
      "metadata": {
        "id": "2ew7HTbPpCJH"
      },
      "outputs": [],
      "source": [
        "import numpy as np\n",
        "import pandas as pd\n",
        "import requests\n",
        "import tensorflow as tf\n",
        "import tensorflow_hub as hub\n",
        "import matplotlib.pyplot as plt\n",
        "import seaborn as sns\n",
        "import matplotlib.pyplot as plt\n",
        "from tensorflow.keras.utils import to_categorical\n",
        "from sklearn.model_selection import train_test_split\n",
        "from sklearn.metrics import confusion_matrix\n",
        "from sklearn.preprocessing import LabelEncoder\n",
        "from tensorflow.python.framework import config as tf_config\n",
        "tf_config.enable_op_determinism()\n",
        "tf.random.set_seed(100)\n",
        "\n",
        "print(\"Version: \", tf.__version__)\n",
        "print(\"Eager mode: \", tf.executing_eagerly())\n",
        "print(\"Hub version: \", hub.__version__)\n",
        "print(\"GPU is\", \"available\" if tf.config.list_physical_devices('GPU') else \"NOT AVAILABLE\")"
      ]
    },
    {
      "cell_type": "markdown",
      "metadata": {
        "id": "iAsKG535pHep"
      },
      "source": [
        "## Download the data from Github\n",
        "\n",
        "The dataset is available on https://github.com/Joshuajee/AI-ML-PROJECTS/master/. The following code downloads the IMDB dataset to your machine (or the colab runtime):"
      ]
    },
    {
      "cell_type": "code",
      "source": [
        "def get_model_data_from_github(model):\n",
        "  file_path = \"https://raw.githubusercontent.com/Joshuajee/AI-ML-PROJECTS/master/data/llms/\"\n",
        "  reponse = requests.get(file_path + model)\n",
        "  if reponse.status_code == 200:\n",
        "    with open(model, \"wb\") as file:\n",
        "      file.write(reponse.content)\n",
        "  else:\n",
        "    raise Exception(\"Error: downloading\", model, reponse.status_code)"
      ],
      "metadata": {
        "id": "1aE9-XlPXjWf"
      },
      "execution_count": null,
      "outputs": []
    },
    {
      "cell_type": "code",
      "execution_count": null,
      "metadata": {
        "id": "a6E-cmR7KXiW"
      },
      "outputs": [],
      "source": [
        "# Download the model data from github this is faster\n",
        "get_model_data_from_github(\"Meta-Llama-3-8B-Instruct.Q4_0.gguf.csv\")\n",
        "get_model_data_from_github(\"Phi-3-mini-4k-instruct.Q4_0.gguf.csv\")\n",
        "get_model_data_from_github(\"Nous-Hermes-2-Mistral-7B-DPO.Q4_0.gguf.csv\")\n",
        "get_model_data_from_github(\"orca-mini-3b-gguf2-q4_0.gguf.csv\")"
      ]
    },
    {
      "cell_type": "markdown",
      "source": [
        "## Explore the data\n",
        "\n",
        "Exploring the data to better understand the response gotten from the LLMs.\n",
        "\n",
        "From the exploration Meta-Llama-3-8B-Instruct tend to use this \"\\*\\*\" character to represent heading, this will help to easily recognise the response gotten from Meta-Llama-3-8B-Instruct but because \"\\*\\*\" is not a word they will be removed from our data."
      ],
      "metadata": {
        "id": "vJc6wb3BY8WF"
      }
    },
    {
      "cell_type": "code",
      "execution_count": null,
      "metadata": {
        "id": "O-7flb74LuXL"
      },
      "outputs": [],
      "source": [
        "# Read and explore Meta-Llama-3-8B-Instruct data\n",
        "meta = pd.read_csv(\"Meta-Llama-3-8B-Instruct.Q4_0.gguf.csv\")\n",
        "meta.head(10)"
      ]
    },
    {
      "cell_type": "code",
      "execution_count": null,
      "metadata": {
        "id": "3vUTtAxnL-12"
      },
      "outputs": [],
      "source": [
        "# Read and explore Phi-3-mini-4k-instruct data\n",
        "phi = pd.read_csv(\"Phi-3-mini-4k-instruct.Q4_0.gguf.csv\")\n",
        "phi.head(10)"
      ]
    },
    {
      "cell_type": "code",
      "source": [
        "# Read and explore Nous-Hermes-2-Mistral-7B-DPO.Q4_0 data\n",
        "nous = pd.read_csv(\"Nous-Hermes-2-Mistral-7B-DPO.Q4_0.gguf.csv\")\n",
        "nous.head(10)"
      ],
      "metadata": {
        "id": "ccRwrzOFeptk"
      },
      "execution_count": null,
      "outputs": []
    },
    {
      "cell_type": "code",
      "source": [
        "# Read and explore orca-mini-3b-gguf2-q4_0.gguf data\n",
        "orca = pd.read_csv(\"orca-mini-3b-gguf2-q4_0.gguf.csv\")\n",
        "orca.head(10)"
      ],
      "metadata": {
        "id": "fXhV2Yp3UgYo"
      },
      "execution_count": null,
      "outputs": []
    },
    {
      "cell_type": "markdown",
      "metadata": {
        "id": "HM1HQSfaOX3I"
      },
      "source": [
        "Get the total count of the DataFrames in other to balance the classes"
      ]
    },
    {
      "cell_type": "code",
      "execution_count": null,
      "metadata": {
        "id": "LIkJW1Y8OV5V"
      },
      "outputs": [],
      "source": [
        "print(phi.count())\n",
        "print(meta.count())\n",
        "print(nous.count())\n",
        "print(orca.count())"
      ]
    },
    {
      "cell_type": "code",
      "source": [
        "complete_df = pd.concat([meta, phi, nous, orca], ignore_index=True)\n",
        "complete_df"
      ],
      "metadata": {
        "id": "qxTGZf0YXpy4"
      },
      "execution_count": null,
      "outputs": []
    },
    {
      "cell_type": "code",
      "source": [
        "# Remove trailing and leading whitespaces on the dataframe columns\n",
        "complete_df.columns = complete_df.columns.str.strip()"
      ],
      "metadata": {
        "id": "Z0fYaHnLYVnl"
      },
      "execution_count": null,
      "outputs": []
    },
    {
      "cell_type": "markdown",
      "source": [
        "### Calculating and plotting the average words per model"
      ],
      "metadata": {
        "id": "noU2QOhFYAht"
      }
    },
    {
      "cell_type": "code",
      "source": [
        "# Function to count words\n",
        "complete_df['word_count'] = complete_df['Response'].apply(lambda x: len(x.split()))\n",
        "\n",
        "# Calculate average words per Model\n",
        "avg_words_per_model = complete_df.groupby('Model', as_index=False)['word_count'].mean()\n",
        "\n",
        "avg_words_per_model"
      ],
      "metadata": {
        "id": "cLp2RpZUX2ju"
      },
      "execution_count": null,
      "outputs": []
    },
    {
      "cell_type": "code",
      "source": [
        "plt.figure(figsize=(20, 8))\n",
        "sns.barplot(x='Model', y='word_count', data=avg_words_per_model, palette='viridis')\n",
        "\n",
        "# Customization\n",
        "plt.xlabel('Model')\n",
        "plt.ylabel('Average Word Count')\n",
        "plt.title('Average Word Count per Model')\n",
        "plt.xticks(rotation=0)\n",
        "plt.grid(axis='y', linestyle='--', alpha=0.7)\n",
        "\n",
        "# Show the plot\n",
        "plt.show()"
      ],
      "metadata": {
        "id": "ZB_oIQdmhNs7"
      },
      "execution_count": null,
      "outputs": []
    },
    {
      "cell_type": "markdown",
      "source": [
        "## Preprocessing\n",
        "\n"
      ],
      "metadata": {
        "id": "fZSIHG0odIAj"
      }
    },
    {
      "cell_type": "markdown",
      "source": [
        "Very few text cleaning is needed here because of the text embedding, but I will remove the \"**\" character that is in most of Meta-Llama-3-8B-Instruct responses."
      ],
      "metadata": {
        "id": "Wc4GZ15TOZgV"
      }
    },
    {
      "cell_type": "code",
      "source": [
        "complete_df['Response'] = complete_df['Response'].str.replace('**', ' ').str.strip()\n",
        "complete_df"
      ],
      "metadata": {
        "id": "RgNzVBmhdTFs"
      },
      "execution_count": null,
      "outputs": []
    },
    {
      "cell_type": "markdown",
      "source": [
        "### Encoding\n",
        "Computers don’t understand text, so we need to convert our labels (the model) into numbers. The label encoder is a good library for this task.\n"
      ],
      "metadata": {
        "id": "ok3ViyxpOfs2"
      }
    },
    {
      "cell_type": "code",
      "source": [
        "complete_df['Features'] = complete_df['Response']\n",
        "encoder = LabelEncoder()\n",
        "complete_df['Labels'] = encoder.fit_transform(complete_df['Model'])\n",
        "complete_df"
      ],
      "metadata": {
        "id": "15f65sV9L8--"
      },
      "execution_count": null,
      "outputs": []
    },
    {
      "cell_type": "code",
      "source": [
        "# Create a new DataFrame with only the Features and Labels columns\n",
        "feature_df = complete_df[['Features', 'Labels']]\n",
        "feature_df"
      ],
      "metadata": {
        "id": "-MJeEJFETiwT"
      },
      "execution_count": null,
      "outputs": []
    },
    {
      "cell_type": "markdown",
      "metadata": {
        "id": "trf_Y3WjQPxi"
      },
      "source": [
        "## Splitting Data\n",
        "Spliting into training, validation, and testing sets."
      ]
    },
    {
      "cell_type": "code",
      "source": [
        "train_data, temp_data = train_test_split(feature_df, test_size=0.4, stratify=feature_df['Labels'], random_state=42)\n",
        "train_data"
      ],
      "metadata": {
        "id": "HgK18JMPL4SA"
      },
      "execution_count": null,
      "outputs": []
    },
    {
      "cell_type": "code",
      "source": [
        "# Further split the temp_data into validation and test sets\n",
        "val_data, test_data = train_test_split(temp_data, test_size=0.5, stratify=temp_data['Labels'], random_state=42)\n",
        "val_data"
      ],
      "metadata": {
        "id": "WAwSGc3yTENr"
      },
      "execution_count": null,
      "outputs": []
    },
    {
      "cell_type": "code",
      "source": [
        "test_data"
      ],
      "metadata": {
        "id": "52QuCEhzTY6m"
      },
      "execution_count": null,
      "outputs": []
    },
    {
      "cell_type": "markdown",
      "source": [
        "### Converting to Tensors\n",
        "In order to work with Tensorflow we have to convert our train, validation and test datasets into Tensors."
      ],
      "metadata": {
        "id": "8rQtW3UZUuxe"
      }
    },
    {
      "cell_type": "code",
      "execution_count": null,
      "metadata": {
        "id": "kq_LLCMKhPWv"
      },
      "outputs": [],
      "source": [
        "# Converting to Tensors\n",
        "train_features = tf.convert_to_tensor(train_data['Features'].values, dtype=tf.string) # Convert 'Features' to tf.string tensor\n",
        "train_labels = tf.convert_to_tensor(to_categorical(train_data['Labels'].values, num_classes=4), dtype=tf.int64)   # Convert 'Labels' to tf.int64 tensor\n",
        "\n",
        "val_features = tf.convert_to_tensor(val_data['Features'].values, dtype=tf.string) # Convert 'Features' to tf.string tensor\n",
        "val_labels = tf.convert_to_tensor(to_categorical(val_data['Labels'].values, num_classes=4), dtype=tf.int64)   # Convert 'Labels' to tf.int64 tensor\n",
        "\n",
        "test_features = tf.convert_to_tensor(test_data['Features'].values, dtype=tf.string) # Convert 'Features' to tf.string tensor\n",
        "test_labels = tf.convert_to_tensor(to_categorical(test_data['Labels'].values, num_classes=4), dtype=tf.int64)   # Convert 'Labels' to tf.int64 tensor"
      ]
    },
    {
      "cell_type": "markdown",
      "metadata": {
        "id": "LLC02j2g-llC"
      },
      "source": [
        "## Build the model\n",
        "\n",
        "The neural network is created by stacking layers—this requires three main architectural decisions:\n",
        "\n",
        "* How to represent the text?\n",
        "* How many layers to use in the model?\n",
        "* How many *hidden units* to use for each layer?\n",
        "\n",
        "In this project, the input data consists of sentences. The labels to predict are either 0, 1, 2, 3.\n",
        "\n",
        "To represent the text, the sentences will be converted into embeddings vectors.\n",
        "\n",
        "Pre-trained text embedding will be used as the first layer, which will have two advantages:\n",
        "*   we don't have to worry about text preprocessing,\n",
        "*   we can benefit from transfer learning.\n",
        "\n",
        "For this example I will use the following model.\n",
        "\n",
        "1. [Universal Sentence Encoder v4](https://tfhub.dev/google/universal-sentence-encoder/4).\n",
        "\n",
        "2. [google/nnlm-en-dim50-with-normalization/2](https://tfhub.dev/google/nnlm-en-dim50-with-normalization/2).\n",
        "\n",
        "3. [google/nnlm-en-dim128-with-normalization/2](https://tfhub.dev/google/nnlm-en-dim128-with-normalization/2)"
      ]
    },
    {
      "cell_type": "markdown",
      "source": [
        "The layers are stacked sequentially to build the classifier:\n",
        "\n",
        "1. The first layer is a TensorFlow Hub layer. This layer uses a pre-trained Saved Model to map a sentence into its embedding vector. We are using the three models above to splits the sentence into tokens, embeds each token and then combines the embedding. The resulting dimensions are: `(num_featuress, embedding_dimension)`.\n",
        "2. This fixed-length output vector is piped through a fully-connected (`Dense`) layer with 16 hidden units.\n",
        "3. The last layer is densely connected with a four output node. This outputs logits: the log-odds of the true class, according to the model."
      ],
      "metadata": {
        "id": "Jc0ZqebWCuGM"
      }
    },
    {
      "cell_type": "markdown",
      "metadata": {
        "id": "dfSbV6igl1EH"
      },
      "source": [
        "Let's now build the full model:"
      ]
    },
    {
      "cell_type": "code",
      "execution_count": null,
      "metadata": {
        "id": "xpKOoWgu-llD"
      },
      "outputs": [],
      "source": [
        "def build_model(embedding_model):\n",
        "    model = tf.keras.Sequential()\n",
        "    model.add(hub.KerasLayer(embedding_model, input_shape=[], dtype=tf.string, trainable=True))\n",
        "    model.add(tf.keras.layers.Dense(16, activation='relu'))\n",
        "    model.add(tf.keras.layers.Dense(4, activation='softmax'))\n",
        "    model.compile(optimizer='adam', loss=tf.losses.CategoricalCrossentropy(), metrics=['accuracy'])\n",
        "    model.summary()\n",
        "    return model"
      ]
    },
    {
      "cell_type": "code",
      "source": [
        "universal_sen_encoder = build_model(\"https://tfhub.dev/google/universal-sentence-encoder/4\")"
      ],
      "metadata": {
        "id": "4sVr8H1a4qFy"
      },
      "execution_count": null,
      "outputs": []
    },
    {
      "cell_type": "code",
      "source": [
        "nnlm_50_dim_norm = build_model(\"https://tfhub.dev/google/nnlm-en-dim50-with-normalization/2\")"
      ],
      "metadata": {
        "id": "fYfRPvA97Vjx"
      },
      "execution_count": null,
      "outputs": []
    },
    {
      "cell_type": "code",
      "source": [
        "nnlm_128_dim_norm = build_model(\"https://tfhub.dev/google/nnlm-en-dim128-with-normalization/2\")"
      ],
      "metadata": {
        "id": "-3g4v0xx7VK9"
      },
      "execution_count": null,
      "outputs": []
    },
    {
      "cell_type": "markdown",
      "metadata": {
        "id": "0XMwnDOp-llH"
      },
      "source": [
        "### Hidden units\n",
        "\n",
        "The above model has two intermediate or \"hidden\" layers, between the input and output. The number of outputs (units, nodes, or neurons) is the dimension of the representational space for the layer. In other words, the amount of freedom the network is allowed when learning an internal representation.\n"
      ]
    },
    {
      "cell_type": "markdown",
      "metadata": {
        "id": "L4EqVWg4-llM"
      },
      "source": [
        "### Loss function and optimizer\n",
        "\n",
        "A model needs a loss function and an optimizer for training. Since this is a categorical classification problem and the model outputs a probability (a single-unit layer with a sigmoid activation), we'll use the `categorical_crossentropy` loss function."
      ]
    },
    {
      "cell_type": "markdown",
      "metadata": {
        "id": "35jv_fzP-llU"
      },
      "source": [
        "## Train the models\n",
        "\n",
        "Train the model for 15 epochs in mini-batches of 100 samples. This is 360 iterations over all samples in the `x_train` and `y_train` tensors."
      ]
    },
    {
      "cell_type": "code",
      "execution_count": null,
      "metadata": {
        "id": "tXSGrjWZ-llW"
      },
      "outputs": [],
      "source": [
        "total_epochs = 15\n",
        "def train_model(model, train_features, train_labels, val_features, val_labels):\n",
        "  return model.fit(train_features, train_labels, epochs=total_epochs, batch_size=100, validation_data=(val_features, val_labels), verbose=1)"
      ]
    },
    {
      "cell_type": "code",
      "source": [
        "universal_sen_encoder_history = train_model(universal_sen_encoder, train_features, train_labels, val_features, val_labels)"
      ],
      "metadata": {
        "id": "HkfjtF7Q6SQG"
      },
      "execution_count": null,
      "outputs": []
    },
    {
      "cell_type": "code",
      "source": [
        "nnlm_50_dim_norm_history = train_model(nnlm_50_dim_norm, train_features, train_labels, val_features, val_labels)"
      ],
      "metadata": {
        "id": "5_sA2JVo-ILP"
      },
      "execution_count": null,
      "outputs": []
    },
    {
      "cell_type": "code",
      "source": [
        "nnlm_128_dim_norm_history = train_model(nnlm_128_dim_norm, train_features, train_labels, val_features, val_labels)"
      ],
      "metadata": {
        "id": "4rLiIlAm-K9I"
      },
      "execution_count": null,
      "outputs": []
    },
    {
      "cell_type": "markdown",
      "metadata": {
        "id": "9EEGuDVuzb5r"
      },
      "source": [
        "## Evaluate the models\n",
        "\n",
        "And let's see how the model performs. Two values will be returned. Loss (a number which represents our error, lower values are better), and accuracy."
      ]
    },
    {
      "cell_type": "code",
      "source": [
        "def evaluate_model(model, test_features, test_labels):\n",
        "  results = model.evaluate(test_features, test_labels)\n",
        "  print(f\"test loss: {results[0]}, test acc: {results[1]}\")\n",
        "  return results"
      ],
      "metadata": {
        "id": "7y8V_A785kv8"
      },
      "execution_count": null,
      "outputs": []
    },
    {
      "cell_type": "code",
      "execution_count": null,
      "metadata": {
        "id": "zOMKywn4zReN"
      },
      "outputs": [],
      "source": [
        "universal_sen_encoder_results = evaluate_model(universal_sen_encoder, test_features, test_labels)"
      ]
    },
    {
      "cell_type": "code",
      "source": [
        "nnlm_50_dim_norm_results = evaluate_model(nnlm_50_dim_norm, test_features, test_labels)"
      ],
      "metadata": {
        "id": "QmSec9jQ__Xc"
      },
      "execution_count": null,
      "outputs": []
    },
    {
      "cell_type": "code",
      "source": [
        "nnlm_128_dim_norm_results = evaluate_model(nnlm_128_dim_norm, test_features, test_labels)"
      ],
      "metadata": {
        "id": "WOQdVy9X__CM"
      },
      "execution_count": null,
      "outputs": []
    },
    {
      "cell_type": "markdown",
      "metadata": {
        "id": "OgdNiYjAFiiP"
      },
      "source": [
        "Model predict, this is assuming that we feed a brand new data to our trained system"
      ]
    },
    {
      "cell_type": "code",
      "source": [
        "def plot_confusion_matrix(model, name):\n",
        "    class_names = ['Meta-Llama-3-8B-Instruct', 'Phi-3-mini-4k-instruct', 'Nous-Hermes-2-Mistral-7B-DPO', 'orca-mini-3b-gguf2-q4_0']\n",
        "    y_pred = model.predict(test_features)\n",
        "    y_pred_classes = np.argmax(y_pred, axis=1)\n",
        "    y_true_classes = np.argmax(test_labels, axis=1)\n",
        "    cm = confusion_matrix(y_true_classes, y_pred_classes)\n",
        "    plt.figure(figsize=(8, 6))\n",
        "    sns.heatmap(cm, annot=True, fmt='d', cmap='Blues', xticklabels=class_names, yticklabels=class_names)\n",
        "    plt.xlabel('Predicted Label')\n",
        "    plt.ylabel('True Label')\n",
        "    plt.title(name + ' Confusion Matrix')\n",
        "    plt.show()\n",
        "    return cm"
      ],
      "metadata": {
        "id": "CAYq9PCvwB0Z"
      },
      "execution_count": null,
      "outputs": []
    },
    {
      "cell_type": "code",
      "source": [
        "universal_sen_encoder_cm = plot_confusion_matrix(universal_sen_encoder, \"Universal Sentence Encoder\")"
      ],
      "metadata": {
        "id": "ePI4y5BKCFkg"
      },
      "execution_count": null,
      "outputs": []
    },
    {
      "cell_type": "code",
      "source": [
        "nnlm_50_dim_norm_cm = plot_confusion_matrix(nnlm_50_dim_norm, \"NNLM-EN-50-DIM\")"
      ],
      "metadata": {
        "id": "oyF1DwB-Aa5N"
      },
      "execution_count": null,
      "outputs": []
    },
    {
      "cell_type": "code",
      "source": [
        "nnlm_128_dim_norm_cm = plot_confusion_matrix(nnlm_128_dim_norm, \"NNLM-EN-128-DIM\")"
      ],
      "metadata": {
        "id": "ZS-Bn2uwiZNe"
      },
      "execution_count": null,
      "outputs": []
    },
    {
      "cell_type": "markdown",
      "metadata": {
        "id": "5KggXVeL-llZ"
      },
      "source": [
        "## Create a graph of accuracy and loss over time"
      ]
    },
    {
      "cell_type": "code",
      "source": [
        "# Getting the metric array from the history for the three models\n",
        "(universal_sen_train_acc, universal_sen_train_loss, universal_sen_val_acc, universal_sen_val_loss) = get_model_metric(universal_sen_encoder_history)\n",
        "(nnlm_50_dim_norm_train_acc, nnlm_50_dim_norm_train_loss, nnlm_50_dim_norm_val_acc, nnlm_50_dim_norm_val_loss) = get_model_metric(nnlm_50_dim_norm_history)\n",
        "(nnlm_128_dim_norm_train_acc, nnlm_128_dim_norm_train_loss, nnlm_128_dim_norm_val_acc, nnlm_128_dim_norm_val_loss) = get_model_metric(nnlm_128_dim_norm_history)"
      ],
      "metadata": {
        "id": "lVftzaszCT2e"
      },
      "execution_count": null,
      "outputs": []
    },
    {
      "cell_type": "code",
      "source": [
        "epochs = np.arange(1, total_epochs + 1)\n",
        "\n",
        "def get_model_metric(history):\n",
        "  history_dict = history.history\n",
        "  history_dict.keys()\n",
        "  train_acc = history_dict['accuracy']\n",
        "  train_loss = history_dict['loss']\n",
        "  val_acc = history_dict['val_accuracy']\n",
        "  val_loss = history_dict['val_loss']\n",
        "  return train_acc, train_loss, val_acc, val_loss\n",
        "\n",
        "def plot_training_metric(plot_for = \"Accuracy\"):\n",
        "\n",
        "  (universal_sen_train_acc, universal_sen_train_loss, universal_sen_val_acc, universal_sen_val_loss) = get_model_metric(universal_sen_encoder_history)\n",
        "  (nnlm_50_dim_norm_train_acc, nnlm_50_dim_norm_train_loss, nnlm_50_dim_norm_val_acc, nnlm_50_dim_norm_val_loss) = get_model_metric(nnlm_50_dim_norm_history)\n",
        "  (nnlm_128_dim_norm_train_acc, nnlm_128_dim_norm_train_loss, nnlm_128_dim_norm_val_acc, nnlm_128_dim_norm_val_loss) = get_model_metric(nnlm_128_dim_norm_history)\n",
        "\n",
        "  if plot_for == \"Accuracy\":\n",
        "    universal_sen_train = universal_sen_train_acc\n",
        "    nnlm_50_dim_norm_train = nnlm_50_dim_norm_train_acc\n",
        "    nnlm_128_dim_norm_train = nnlm_128_dim_norm_train_acc\n",
        "\n",
        "    universal_sen_encoder_val = universal_sen_val_acc\n",
        "    nnlm_50_dim_norm_val = nnlm_50_dim_norm_val_acc\n",
        "    nnlm_128_dim_norm_val = nnlm_128_dim_norm_val_acc\n",
        "  elif plot_for == \"Loss\":\n",
        "    universal_sen_train = universal_sen_train_loss\n",
        "    nnlm_50_dim_norm_train = nnlm_50_dim_norm_train_loss\n",
        "    nnlm_128_dim_norm_train = nnlm_128_dim_norm_train_loss\n",
        "\n",
        "    universal_sen_encoder_val = universal_sen_val_loss\n",
        "    nnlm_50_dim_norm_val = nnlm_50_dim_norm_val_loss\n",
        "    nnlm_128_dim_norm_val = nnlm_128_dim_norm_val_loss\n",
        "  else:\n",
        "    return\n",
        "\n",
        "\n",
        "\n",
        "\n",
        "  plt.clf()\n",
        "  sns.set_theme(style=\"whitegrid\")\n",
        "  plt.figure(figsize=(16, 8))\n",
        "\n",
        "  # Plot for universal-sentence-encoder\n",
        "  plt.plot(epochs, universal_sen_train, marker='o', linestyle='-', color='green', label='universal-sentence-encoder Training ' + plot_for)\n",
        "  plt.plot(epochs, universal_sen_encoder_val,   marker='o', linestyle='--', color='green', label='universal-sentence-encoder Validation ' + plot_for)\n",
        "\n",
        "  # Plot for nnlm-en-dim50\n",
        "  plt.plot(epochs, nnlm_50_dim_norm_train, marker='o', linestyle='-', color='blue', label='nlm-en-dim50 Training ' + plot_for)\n",
        "  plt.plot(epochs, nnlm_50_dim_norm_val,   marker='o', linestyle='--', color='blue', label='nlm-en-dim50 Validation ' + plot_for)\n",
        "\n",
        "  # Plot for nnlm-en-dim128\n",
        "  plt.plot(epochs, nnlm_128_dim_norm_train, marker='o', linestyle='-', color='red', label='nlm-en-dim128 Training ' + plot_for)\n",
        "  plt.plot(epochs, nnlm_128_dim_norm_val,   marker='o', linestyle='--', color='red', label='nlm-en-dim128 Validation ' + plot_for)\n",
        "\n",
        "\n",
        "  # Labeling and legend\n",
        "  plt.title(\"Training and Validation \" + plot_for)\n",
        "  plt.xlabel(\"Epochs\")\n",
        "  plt.ylabel(plot_for)\n",
        "  plt.xticks(epochs)\n",
        "\n",
        "  # Labeling and legend\n",
        "  plt.title(\"Training and Validation \" + plot_for)\n",
        "  plt.xlabel(\"Epochs\")\n",
        "  plt.ylabel(plot_for)\n",
        "  plt.xticks(epochs)  # The epoch will be on the x-axis\n",
        "\n",
        "  plt.legend(loc='upper left', bbox_to_anchor=(1.05, 1), borderaxespad=0.)\n",
        "\n",
        "  plt.tight_layout()\n",
        "  plt.show()"
      ],
      "metadata": {
        "id": "zgp0ih51F8_A"
      },
      "execution_count": null,
      "outputs": []
    },
    {
      "cell_type": "markdown",
      "source": [
        "### Training and Validation accuracy"
      ],
      "metadata": {
        "id": "rjJV6VBRACSc"
      }
    },
    {
      "cell_type": "code",
      "source": [
        "plot_training_metric(\"Accuracy\")"
      ],
      "metadata": {
        "id": "DRtZdifunD9k"
      },
      "execution_count": null,
      "outputs": []
    },
    {
      "cell_type": "markdown",
      "source": [],
      "metadata": {
        "id": "BlU66-_E1CQM"
      }
    },
    {
      "cell_type": "code",
      "source": [
        "plot_training_metric(\"Loss\")"
      ],
      "metadata": {
        "id": "8sehBX621AYE"
      },
      "execution_count": null,
      "outputs": []
    }
  ],
  "metadata": {
    "colab": {
      "name": "Catch the LLM Text Classification.ipynb",
      "private_outputs": true,
      "provenance": [],
      "include_colab_link": true
    },
    "kernelspec": {
      "display_name": "Python 3",
      "name": "python3"
    }
  },
  "nbformat": 4,
  "nbformat_minor": 0
}