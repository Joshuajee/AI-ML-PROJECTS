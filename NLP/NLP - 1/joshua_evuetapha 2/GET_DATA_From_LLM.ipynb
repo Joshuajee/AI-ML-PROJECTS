{
  "cells": [
    {
      "cell_type": "markdown",
      "metadata": {
        "id": "view-in-github",
        "colab_type": "text"
      },
      "source": [
        "<a href=\"https://colab.research.google.com/github/Joshuajee/AI-ML-PROJECTS/blob/master/GET_DATA_From_LLM.ipynb\" target=\"_parent\"><img src=\"https://colab.research.google.com/assets/colab-badge.svg\" alt=\"Open In Colab\"/></a>"
      ]
    },
    {
      "cell_type": "code",
      "execution_count": 1,
      "metadata": {
        "id": "5bXq2cVURXuD",
        "outputId": "b244c61b-0568-4778-96fa-8e181bdbe511",
        "colab": {
          "base_uri": "https://localhost:8080/"
        }
      },
      "outputs": [
        {
          "output_type": "stream",
          "name": "stdout",
          "text": [
            "Requirement already satisfied: gpt4all in /usr/local/lib/python3.11/dist-packages (2.8.2)\n",
            "Requirement already satisfied: requests in /usr/local/lib/python3.11/dist-packages (from gpt4all) (2.32.3)\n",
            "Requirement already satisfied: tqdm in /usr/local/lib/python3.11/dist-packages (from gpt4all) (4.67.1)\n",
            "Requirement already satisfied: charset-normalizer<4,>=2 in /usr/local/lib/python3.11/dist-packages (from requests->gpt4all) (3.4.1)\n",
            "Requirement already satisfied: idna<4,>=2.5 in /usr/local/lib/python3.11/dist-packages (from requests->gpt4all) (3.10)\n",
            "Requirement already satisfied: urllib3<3,>=1.21.1 in /usr/local/lib/python3.11/dist-packages (from requests->gpt4all) (2.3.0)\n",
            "Requirement already satisfied: certifi>=2017.4.17 in /usr/local/lib/python3.11/dist-packages (from requests->gpt4all) (2025.1.31)\n",
            "Requirement already satisfied: gpt4all[cuda] in /usr/local/lib/python3.11/dist-packages (2.8.2)\n",
            "Requirement already satisfied: requests in /usr/local/lib/python3.11/dist-packages (from gpt4all[cuda]) (2.32.3)\n",
            "Requirement already satisfied: tqdm in /usr/local/lib/python3.11/dist-packages (from gpt4all[cuda]) (4.67.1)\n",
            "Requirement already satisfied: nvidia-cuda-runtime-cu11 in /usr/local/lib/python3.11/dist-packages (from gpt4all[cuda]) (11.8.89)\n",
            "Requirement already satisfied: nvidia-cublas-cu11 in /usr/local/lib/python3.11/dist-packages (from gpt4all[cuda]) (11.11.3.6)\n",
            "Requirement already satisfied: charset-normalizer<4,>=2 in /usr/local/lib/python3.11/dist-packages (from requests->gpt4all[cuda]) (3.4.1)\n",
            "Requirement already satisfied: idna<4,>=2.5 in /usr/local/lib/python3.11/dist-packages (from requests->gpt4all[cuda]) (3.10)\n",
            "Requirement already satisfied: urllib3<3,>=1.21.1 in /usr/local/lib/python3.11/dist-packages (from requests->gpt4all[cuda]) (2.3.0)\n",
            "Requirement already satisfied: certifi>=2017.4.17 in /usr/local/lib/python3.11/dist-packages (from requests->gpt4all[cuda]) (2025.1.31)\n"
          ]
        }
      ],
      "source": [
        "!pip install gpt4all\n",
        "!pip install \"gpt4all[cuda]\""
      ]
    },
    {
      "cell_type": "code",
      "execution_count": 2,
      "metadata": {
        "id": "QP4tgTJhOMAQ",
        "outputId": "f109e025-ce30-4053-d139-31d1b75418ab",
        "colab": {
          "base_uri": "https://localhost:8080/"
        }
      },
      "outputs": [
        {
          "output_type": "execute_result",
          "data": {
            "text/plain": [
              "False"
            ]
          },
          "metadata": {},
          "execution_count": 2
        }
      ],
      "source": [
        "import requests\n",
        "import json\n",
        "from gpt4all import GPT4All\n",
        "import torch\n",
        "\n",
        "has_gpu = torch.cuda.is_available()\n",
        "\n",
        "has_gpu  # Should return True"
      ]
    },
    {
      "cell_type": "code",
      "source": [
        "# Get Prompt\n",
        "reponse = requests.get(\"https://raw.githubusercontent.com/Joshuajee/AI-ML-PROJECTS/master/data/llms/prompt.csv\")\n",
        "if reponse.status_code == 200:\n",
        "  with open(\"prompt.csv\", \"wb\") as file:\n",
        "    file.write(reponse.content)\n",
        "else:\n",
        "    raise Exception(\"Error: downloading\", reponse.status_code)"
      ],
      "metadata": {
        "id": "1-2IuVzCtBcI"
      },
      "execution_count": 3,
      "outputs": []
    },
    {
      "cell_type": "code",
      "execution_count": 4,
      "metadata": {
        "id": "sxjzAJplP2Ol"
      },
      "outputs": [],
      "source": [
        "# Uncomment to use google drive,\n",
        "#from google.colab import drive\n",
        "#drive.mount('/content/drive/') # Mount your Google Drive to the local /content/drive directory\n",
        "#drive_path = \"/content/drive/My Drive/Colab Notebooks/assessment-2\" # Change to a google drive path on your system"
      ]
    },
    {
      "cell_type": "code",
      "source": [
        "# To run the code locally use this instead\n",
        "drive_path = \"/\""
      ],
      "metadata": {
        "id": "4CAqfnUrwQ0o"
      },
      "execution_count": 5,
      "outputs": []
    },
    {
      "cell_type": "code",
      "execution_count": 6,
      "metadata": {
        "id": "rRk-S_-7P7wC"
      },
      "outputs": [],
      "source": [
        "def create_llm_response(model, batch_size = 4):\n",
        "    '''\n",
        "    This function go through the prompt CSV file and\n",
        "    save the response of the LLM inside a CSV file.\n",
        "    it always start from where it stops so canceling the process will not lead to lose\n",
        "    '''\n",
        "    if has_gpu:\n",
        "        gpt_model = GPT4All(model, device=\"cuda\") # downloads / loads a 4.66GB LLM and run on GPU\n",
        "    else:\n",
        "        gpt_model = GPT4All(model) # downloads / loads a 4.66GB LLM\n",
        "\n",
        "    try:\n",
        "      model_file = open(drive_path + model + \".csv\", \"a+\")\n",
        "      model_file.seek(0)\n",
        "    except:\n",
        "      model_file = open(drive_path + model + \".csv\", \"x+\")\n",
        "\n",
        "    last_line = len(model_file.readlines())\n",
        "    model_file.seek(last_line)\n",
        "    current_line = last_line\n",
        "    with open(\"prompt.csv\", \"r\") as file:\n",
        "        lines = file.readlines()\n",
        "        while current_line <= 1000:\n",
        "            print(f\"Job progress: {current_line/10} %\")\n",
        "            line_split = lines[current_line].split(\",\")\n",
        "            prompt = \"Write an article on \" + line_split[2].replace(\"\\n\", \"\")\n",
        "            if current_line == 0:\n",
        "                model_file.write(line_split[0] + \",\" + line_split[1] + \",\" + line_split[2].replace('\\n', '') + \", Prompt, Response, Model\\n\")\n",
        "            else:\n",
        "                with gpt_model.chat_session():\n",
        "                    answer = gpt_model.generate(prompt, max_tokens=1024)\n",
        "                    answer = answer.replace(\"\\n\", \"\").replace('\"', \"'\")\n",
        "                    model_file.write(line_split[0] + \",\" + line_split[1] + ',\"' + str((line_split[2]).strip()) +  '\",\"' + str(prompt.strip()) + '\",\"' + str(answer.strip()) + '\",' + model + \" \\n\")\n",
        "            current_line += 1\n",
        "            #To save after every 10 lines that is processed\n",
        "            if current_line % batch_size == 0:\n",
        "                model_file.close()\n",
        "                model_file = open(drive_path + model + \".csv\", \"a+\")\n",
        "                print(f\"Batch {(current_line // batch_size) + 1} saved\")\n",
        "        print(f\"Job completed\")\n",
        "    model_file.close()"
      ]
    },
    {
      "cell_type": "code",
      "execution_count": null,
      "metadata": {
        "id": "7QHqAi9N8S_W",
        "outputId": "f89753a0-1381-4f0f-e36a-91a103b4b325",
        "colab": {
          "base_uri": "https://localhost:8080/"
        }
      },
      "outputs": [
        {
          "output_type": "stream",
          "name": "stdout",
          "text": [
            "Job progress: 0.0 %\n",
            "Job progress: 0.1 %\n"
          ]
        }
      ],
      "source": [
        "create_llm_response(\"Meta-Llama-3-8B-Instruct.Q4_0.gguf\")"
      ]
    },
    {
      "cell_type": "code",
      "execution_count": null,
      "metadata": {
        "id": "Knjt2yVh5T6N"
      },
      "outputs": [],
      "source": [
        "create_llm_response(\"Nous-Hermes-2-Mistral-7B-DPO.Q4_0.gguf\")"
      ]
    },
    {
      "cell_type": "code",
      "execution_count": null,
      "metadata": {
        "id": "5-VMDEhF7MQ1"
      },
      "outputs": [],
      "source": [
        "create_llm_response(\"Phi-3-mini-4k-instruct.Q4_0.gguf\")"
      ]
    },
    {
      "cell_type": "code",
      "execution_count": null,
      "metadata": {
        "id": "cy7BZCK07PSC"
      },
      "outputs": [],
      "source": [
        "create_llm_response(\"orca-mini-3b-gguf2-q4_0.gguf\")"
      ]
    }
  ],
  "metadata": {
    "colab": {
      "provenance": [],
      "authorship_tag": "ABX9TyPFs9GmffUNZvHdfM0BVwJm",
      "include_colab_link": true
    },
    "kernelspec": {
      "display_name": "Python 3",
      "name": "python3"
    },
    "language_info": {
      "name": "python"
    }
  },
  "nbformat": 4,
  "nbformat_minor": 0
}